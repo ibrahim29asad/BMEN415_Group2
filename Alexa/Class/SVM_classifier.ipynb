{
 "cells": [
  {
   "cell_type": "code",
   "execution_count": 14,
   "id": "0736e150-add7-4cae-b6b6-4de7ef57d542",
   "metadata": {},
   "outputs": [
    {
     "name": "stdout",
     "output_type": "stream",
     "text": [
      "0.5909090909090913\n",
      "0.6056338028169015\n"
     ]
    }
   ],
   "source": [
    "import numpy as np\n",
    "import pandas as pd\n",
    "import matplotlib.pyplot as plt\n",
    "from sklearn import svm\n",
    "from sklearn.metrics import r2_score\n",
    "from sklearn.model_selection import train_test_split \n",
    "\n",
    "dataset = pd.read_csv('/Users/alexagrebenstein/Downloads/BC.csv')\n",
    "\n",
    "def diagnosis_classify(i):\n",
    "    if i=='M': return 1\n",
    "    if i=='B': return 0\n",
    "\n",
    "dataset['diagnosis'] = dataset.diagnosis.apply(diagnosis_classify)\n",
    "\n",
    "X = dataset.drop([\"diagnosis\"], axis=1) \n",
    "y = dataset.diagnosis.values\n",
    "\n",
    "X_train, X_test, y_train, y_test = train_test_split(X, y, test_size=0.2, random_state=42)\n",
    "SVM = svm.SVC()\n",
    "SVM.fit(X_train, y_train)\n",
    "\n",
    "y_train_pred = SVM.predict(X_train)\n",
    "y_test_pred = SVM.predict(X_test)\n",
    "\n",
    "print(abs(r2_score(y_train,y_train_pred)))\n",
    "print(abs(r2_score(y_test,y_test_pred)))\n"
   ]
  },
  {
   "cell_type": "code",
   "execution_count": null,
   "id": "a1aa4f9d-ca15-447c-b273-f1e959925f1c",
   "metadata": {},
   "outputs": [],
   "source": []
  }
 ],
 "metadata": {
  "kernelspec": {
   "display_name": "Python 3 (ipykernel)",
   "language": "python",
   "name": "python3"
  },
  "language_info": {
   "codemirror_mode": {
    "name": "ipython",
    "version": 3
   },
   "file_extension": ".py",
   "mimetype": "text/x-python",
   "name": "python",
   "nbconvert_exporter": "python",
   "pygments_lexer": "ipython3",
   "version": "3.9.7"
  }
 },
 "nbformat": 4,
 "nbformat_minor": 5
}
